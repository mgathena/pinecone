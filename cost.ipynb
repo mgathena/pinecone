{
 "cells": [
  {
   "cell_type": "markdown",
   "metadata": {},
   "source": [
    "# Pinecone Cost Estimation"
   ]
  },
  {
   "cell_type": "markdown",
   "metadata": {},
   "source": [
    "This notebook tends to provide an estimate of the cost associated with using Pinecone's offering. We will ingest a random dataset to get an estimate of the units consumed.\n",
    "\n",
    "The UI can provide the number of units consumed."
   ]
  },
  {
   "attachments": {
    "image.png": {
     "image/png": "[encoded data removed]"
    }
   },
   "cell_type": "markdown",
   "metadata": {},
   "source": [
    "![image.png](attachment:image.png)"
   ]
  },
  {
   "cell_type": "markdown",
   "metadata": {},
   "source": [
    "Unfortunately, this widget does not update in realtime. There is a dashboard where different metrics are displayed including storage and RU/WU **per time**."
   ]
  },
  {
   "cell_type": "code",
   "execution_count": 1,
   "metadata": {},
   "outputs": [
    {
     "data": {
      "text/plain": [
       "True"
      ]
     },
     "execution_count": 1,
     "metadata": {},
     "output_type": "execute_result"
    }
   ],
   "source": [
    "from dotenv import load_dotenv\n",
    "\n",
    "load_dotenv()"
   ]
  },
  {
   "cell_type": "code",
   "execution_count": 3,
   "metadata": {},
   "outputs": [],
   "source": [
    "from pinecone import Pinecone\n",
    "import os\n",
    "\n",
    "api_key = os.environ.get(\"PINECONE_API_KEY\")\n",
    "\n",
    "pc = Pinecone(api_key=api_key)"
   ]
  },
  {
   "cell_type": "code",
   "execution_count": 4,
   "metadata": {},
   "outputs": [],
   "source": [
    "from pinecone import ServerlessSpec\n",
    "\n",
    "cloud = os.environ.get('PINECONE_CLOUD') or 'aws'\n",
    "region = os.environ.get('PINECONE_REGION') or 'us-east-1'\n",
    "\n",
    "spec = ServerlessSpec(cloud=cloud, region=region)"
   ]
  },
  {
   "cell_type": "markdown",
   "metadata": {},
   "source": [
    "We create an index of 1536 dimensions equal to that of OpenAI's embedding"
   ]
  },
  {
   "cell_type": "code",
   "execution_count": 5,
   "metadata": {},
   "outputs": [
    {
     "name": "stdout",
     "output_type": "stream",
     "text": [
      "Creating index \"cost-estimate\"...\n",
      "\n",
      "Successfully created index \"cost-estimate\"!\n"
     ]
    }
   ],
   "source": [
    "index_name = \"cost-estimate\"\n",
    "\n",
    "import time\n",
    "\n",
    "if index_name not in pc.list_indexes().names():\n",
    "    print(f'Creating index \\\"{index_name}\\\"...\\n')\n",
    "    pc.create_index(\n",
    "        name=index_name,\n",
    "        dimension=1536,\n",
    "        metric=\"cosine\",\n",
    "        spec=spec\n",
    "    )\n",
    "    if index_name in pc.list_indexes().names():\n",
    "        print(f'Successfully created index \\\"{index_name}\\\"!')\n",
    "else:\n",
    "    print(f'An index named \\\"{index_name}\\\" already exists!')\n",
    "\n",
    "# wait for index to be ready before connecting\n",
    "while not pc.describe_index(index_name).status['ready']:\n",
    "    time.sleep(1)"
   ]
  },
  {
   "cell_type": "code",
   "execution_count": 6,
   "metadata": {},
   "outputs": [],
   "source": [
    "# Instantiate index object with your index_name\n",
    "\n",
    "index = pc.Index(index_name)"
   ]
  },
  {
   "cell_type": "code",
   "execution_count": 24,
   "metadata": {},
   "outputs": [
    {
     "data": {
      "text/plain": [
       "{'dimension': 1536,\n",
       " 'index_fullness': 0.0,\n",
       " 'namespaces': {},\n",
       " 'total_vector_count': 0}"
      ]
     },
     "execution_count": 24,
     "metadata": {},
     "output_type": "execute_result"
    }
   ],
   "source": [
    "index.describe_index_stats()"
   ]
  },
  {
   "cell_type": "markdown",
   "metadata": {},
   "source": [
    "## Ingest Data"
   ]
  },
  {
   "cell_type": "markdown",
   "metadata": {},
   "source": [
    "We create a helper function to generate synthetic vectors of different sizes and ingest into our database. "
   ]
  },
  {
   "cell_type": "code",
   "execution_count": 23,
   "metadata": {},
   "outputs": [],
   "source": [
    "import uuid\n",
    "import numpy as np\n",
    "from tqdm import tqdm\n",
    "\n",
    "def ingest(namespace, size, BATCHES = 100, BATCH_SIZE = 100, DIMS = 1536):\n",
    "    print(f'Populating namespace \"{namespace}\":')\n",
    "\n",
    "    # Calculate the total number of iterations needed\n",
    "    total_iterations = size // (BATCH_SIZE * BATCHES)\n",
    "\n",
    "    # Process data in batches using tqdm for progress indication\n",
    "    for _ in tqdm(range(total_iterations)):\n",
    "\n",
    "        # Initialize an empty list to store all batches\n",
    "        all_batches = []\n",
    "\n",
    "        # Outer loop to create multiple batches\n",
    "        for _ in range(BATCHES):\n",
    "\n",
    "            # Initialize an empty list for a single batch\n",
    "            single_batch = []\n",
    "\n",
    "            # Inner loop to create each item in the batch\n",
    "            for _ in range(BATCH_SIZE):\n",
    "\n",
    "                # Generate a random vector value using numpy\n",
    "                random_vector_value = np.random.rand(DIMS)\n",
    "\n",
    "                # Create a tuple with a unique ID, the random vector value, and some toy metadata\n",
    "                item = (str(uuid.uuid4()), random_vector_value, {'metadata': 'some toy metadata'})\n",
    "\n",
    "                # Add the created item to the single batch\n",
    "                single_batch.append(item)\n",
    "\n",
    "            # Add the single batch to the list of all batches\n",
    "            all_batches.append(single_batch)\n",
    "\n",
    "        # Upsert (update/insert) each batch\n",
    "        for batch in all_batches:\n",
    "            index.upsert(vectors=batch, async_req=True, namespace=namespace)\n",
    "            \n",
    "\n"
   ]
  },
  {
   "cell_type": "markdown",
   "metadata": {},
   "source": [
    "We ingest 50k vectors into our database"
   ]
  },
  {
   "cell_type": "code",
   "execution_count": 25,
   "metadata": {},
   "outputs": [
    {
     "name": "stdout",
     "output_type": "stream",
     "text": [
      "Populating namespace \"50k\":\n"
     ]
    },
    {
     "name": "stderr",
     "output_type": "stream",
     "text": [
      "100%|██████████| 5/5 [02:28<00:00, 29.79s/it]\n"
     ]
    }
   ],
   "source": [
    "ingest('50k', 50_000)"
   ]
  },
  {
   "cell_type": "code",
   "execution_count": 27,
   "metadata": {},
   "outputs": [
    {
     "data": {
      "text/plain": [
       "{'dimension': 1536,\n",
       " 'index_fullness': 0.0,\n",
       " 'namespaces': {'50k': {'vector_count': 50000}},\n",
       " 'total_vector_count': 50000}"
      ]
     },
     "execution_count": 27,
     "metadata": {},
     "output_type": "execute_result"
    }
   ],
   "source": [
    "index.describe_index_stats()"
   ]
  },
  {
   "cell_type": "markdown",
   "metadata": {},
   "source": [
    "According to the website, this consumes 700 WUs\n",
    "\n",
    "$$\\text{WUs consumed} = \\frac{\\text{total records}}{\\text{records per batch}} \\times \\frac{700 \\text{ WUs}}{\\text{batch}} = \\frac{50000}{100} \\times 700 = 350K \\text{ }WUs$$\n"
   ]
  },
  {
   "cell_type": "markdown",
   "metadata": {},
   "source": [
    "$$ Cost = \\frac{\\$4}{1M \\text{ } WUs} *  350K \\text{ }WUs = \\$1.4 $$"
   ]
  },
  {
   "cell_type": "markdown",
   "metadata": {},
   "source": [
    "## Read"
   ]
  },
  {
   "cell_type": "markdown",
   "metadata": {},
   "source": [
    "We create a dummy vector to perform a read operation."
   ]
  },
  {
   "cell_type": "code",
   "execution_count": 28,
   "metadata": {},
   "outputs": [],
   "source": [
    "dummy_vectorized_query = [0] * 1536"
   ]
  },
  {
   "cell_type": "code",
   "execution_count": 29,
   "metadata": {},
   "outputs": [
    {
     "data": {
      "text/plain": [
       "5"
      ]
     },
     "execution_count": 29,
     "metadata": {},
     "output_type": "execute_result"
    }
   ],
   "source": [
    "index.query(vector=dummy_vectorized_query, top_k=10, namespace='50k')['usage']['read_units']"
   ]
  },
  {
   "cell_type": "markdown",
   "metadata": {},
   "source": [
    "This shows that 5 RUs have been consumed.\n",
    "\n",
    "$$ Cost = \\frac{\\$16}{1M \\text{ } WUs} *  5 \\text{ }WUs = \\$0.00008 $$\n"
   ]
  },
  {
   "cell_type": "markdown",
   "metadata": {},
   "source": [
    "## Storage"
   ]
  },
  {
   "cell_type": "markdown",
   "metadata": {},
   "source": [
    "The dashboard shows a storage size of 0.316 GB for this dataset.\n",
    "\n",
    "$$ Cost = \\$0.33 \\text{GB} / \\text{month} *  0.316 \\text{GB} = \\$0.104 / \\text{month} $$\n"
   ]
  },
  {
   "cell_type": "markdown",
   "metadata": {},
   "source": []
  }
 ],
 "metadata": {
  "kernelspec": {
   "display_name": "pinecone",
   "language": "python",
   "name": "python3"
  },
  "language_info": {
   "codemirror_mode": {
    "name": "ipython",
    "version": 3
   },
   "file_extension": ".py",
   "mimetype": "text/x-python",
   "name": "python",
   "nbconvert_exporter": "python",
   "pygments_lexer": "ipython3",
   "version": "3.10.12"
  }
 },
 "nbformat": 4,
 "nbformat_minor": 2
}
